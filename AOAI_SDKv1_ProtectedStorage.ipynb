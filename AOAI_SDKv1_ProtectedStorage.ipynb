{
 "cells": [
  {
   "attachments": {},
   "cell_type": "markdown",
   "metadata": {},
   "source": [
    "# Azure OpenAI - Accessing files on protected Azure storage\n",
    "Jupyter notebook to demo the use of Azure OpenAI with an Azure Storage that has its access restricted."
   ]
  },
  {
   "cell_type": "code",
   "execution_count": 1,
   "metadata": {},
   "outputs": [],
   "source": [
    "# Importing required packages\n",
    "from openai import AzureOpenAI\n",
    "from azure.identity import DefaultAzureCredential\n",
    "from azure.storage.blob import BlobServiceClient, BlobClient, ContainerClient\n",
    "import base64\n",
    "import os"
   ]
  },
  {
   "cell_type": "code",
   "execution_count": 2,
   "metadata": {},
   "outputs": [],
   "source": [
    "# Extracting environment variables\n",
    "AOAI_API_BASE = os.getenv(\"AZURE_OPENAI_API_BASE\")\n",
    "AOAI_API_KEY = os.getenv(\"AZURE_OPENAI_API_KEY\")\n",
    "AOAI_API_VERSION = os.getenv(\"AZURE_OPENAI_API_VERSION\")\n",
    "AOAI_DEPLOYMENT = os.getenv(\"AZURE_OPENAI_API_DEPLOY\")"
   ]
  },
  {
   "cell_type": "code",
   "execution_count": 3,
   "metadata": {},
   "outputs": [],
   "source": [
    "# Defining storage, container and blob variables\n",
    "STORAGE_URL = \"https://<STORAGE_ACCOUNT_NAME>.blob.core.windows.net\"\n",
    "STORAGE_CONTAINER = \"<STORAGE_CONTAINER_NAME>\"\n",
    "STORAGE_BLOB = \"<STORAGE_BLOB_NAME>\""
   ]
  },
  {
   "cell_type": "code",
   "execution_count": 4,
   "metadata": {},
   "outputs": [],
   "source": [
    "# Defining helper function to authenticate with Azure Blob Storage\n",
    "def get_blob_service_client(storage_url):\n",
    "    print(f\"Step 1 - Authenticating with Azure Blob Storage: {storage_url}.\")\n",
    "    credential = DefaultAzureCredential()\n",
    "    blob_service_client = BlobServiceClient(\n",
    "        storage_url,\n",
    "        credential=credential\n",
    "    )\n",
    "\n",
    "    return blob_service_client"
   ]
  },
  {
   "cell_type": "code",
   "execution_count": 5,
   "metadata": {},
   "outputs": [],
   "source": [
    "# Defining helper function to get blob content\n",
    "def get_blob_to_base64(blob_service_client: BlobServiceClient, container_name, blob_name):\n",
    "    print(f\"Step 2 - Downloading blob: {blob_name}.\")\n",
    "    blob_client = blob_service_client.get_blob_client(\n",
    "        container=container_name,\n",
    "        blob=blob_name\n",
    "    )\n",
    "    downloader = blob_client.download_blob(\n",
    "        max_concurrency=1\n",
    "    )\n",
    "    blob_content = downloader.readall()\n",
    "    blob_base64 = base64.b64encode(blob_content).decode('utf-8')\n",
    "\n",
    "    return blob_base64"
   ]
  },
  {
   "cell_type": "code",
   "execution_count": 6,
   "metadata": {},
   "outputs": [],
   "source": [
    "# Defining helper function to call Azure OpenAI endpoint using Python SDK\n",
    "def analyse_blob(base64_image):\n",
    "    print(f\"Step 3 - Analysing image using Azure OpenAI.\")\n",
    "\n",
    "    client = AzureOpenAI(\n",
    "        azure_endpoint = AOAI_API_BASE,\n",
    "        api_key = AOAI_API_KEY,\n",
    "        api_version = AOAI_API_VERSION\n",
    "    )\n",
    "\n",
    "    response = client.chat.completions.create(\n",
    "        model = AOAI_DEPLOYMENT,\n",
    "        messages = [\n",
    "            {\"role\": \"system\", \"content\": \"You are a useful image analyser.\"},\n",
    "            {\"role\": \"user\", \"content\": [  \n",
    "                { \n",
    "                    \"type\": \"text\", \n",
    "                    \"text\": \"Please, describe the image.\" \n",
    "                },\n",
    "                { \n",
    "                    \"type\": \"image_url\",\n",
    "                    \"image_url\": {\n",
    "                        \"url\": f\"data:image/jpeg;base64,{base64_image}\"\n",
    "                    }\n",
    "                }\n",
    "            ]} \n",
    "        ]\n",
    "    )\n",
    "    print(\"--------------------\")\n",
    "    print(f\"Results: {response.choices[0].message.content}\")\n",
    "    return response"
   ]
  },
  {
   "cell_type": "code",
   "execution_count": 7,
   "metadata": {},
   "outputs": [
    {
     "name": "stdout",
     "output_type": "stream",
     "text": [
      "Step 1 - Authenticating with Azure Blob Storage: https://lazizaoaistorage.blob.core.windows.net.\n",
      "Step 2 - Downloading blob: mslogo.png.\n",
      "Step 3 - Analysing image using Azure OpenAI.\n",
      "--------------------\n",
      "Results: The image features a simple grid composed of four colored squares. The top left square is orange, the top right square is green, the bottom left square is blue, and the bottom right square is yellow. The squares are arranged in a 2x2 format.\n"
     ]
    }
   ],
   "source": [
    "# Step 1: Authenticate with Azure Blob Storage\n",
    "blob_service_client = get_blob_service_client(\n",
    "    storage_url=STORAGE_URL\n",
    ")\n",
    "\n",
    "# Step 2: Get blob content in Base64 format\n",
    "base64_image = get_blob_to_base64(\n",
    "    blob_service_client=blob_service_client,\n",
    "    container_name=STORAGE_CONTAINER,\n",
    "    blob_name=STORAGE_BLOB\n",
    ")\n",
    "\n",
    "# Step 3: Call Azure OpenAI endpoint using Python SDK\n",
    "response = analyse_blob(\n",
    "    base64_image=base64_image\n",
    ")"
   ]
  }
 ],
 "metadata": {
  "kernelspec": {
   "display_name": "Python 3",
   "language": "python",
   "name": "python3"
  },
  "language_info": {
   "codemirror_mode": {
    "name": "ipython",
    "version": 3
   },
   "file_extension": ".py",
   "mimetype": "text/x-python",
   "name": "python",
   "nbconvert_exporter": "python",
   "pygments_lexer": "ipython3",
   "version": "3.11.9"
  },
  "orig_nbformat": 4
 },
 "nbformat": 4,
 "nbformat_minor": 2
}
